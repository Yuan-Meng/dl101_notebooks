{
 "cells": [
  {
   "cell_type": "markdown",
   "metadata": {},
   "source": [
    "In Assignment 5, we are going to implement the perceptron algorithm on a very simple feature space: pixels in images of handwritten digits. We will train a perceptron to classify images of handwritten numbers 0-9. "
   ]
  },
  {
   "cell_type": "code",
   "execution_count": 1,
   "metadata": {},
   "outputs": [],
   "source": [
    "import os\n",
    "import numpy as np\n",
    "import random\n",
    "import matplotlib.pyplot as plt\n",
    "from tqdm.notebook import tqdm\n",
    "\n",
    "%load_ext lab_black"
   ]
  },
  {
   "cell_type": "markdown",
   "metadata": {},
   "source": [
    "# helper functions"
   ]
  },
  {
   "cell_type": "markdown",
   "metadata": {},
   "source": [
    "To facilitate training our perceptron, we have provided a function to read image files (`load_image_files`) of a given digit (`n`), from a provided path (`path=...`), convert them to a numpy matrix, and finally flatten that numpy matrix into a vector. The function load_image_files returns all of the vectors corresponding to pixels in handwritten digits of n from the MNIST dataset. This function returns \"images\" of $28 \\times 28 = 784$ zeroes and ones, corresponding to whether the image was white or black at a given location. \n",
    "\n",
    "> Note that for convenience for the assignment, each \"image\" returned to you is a single vector of length 784.\n",
    "\n",
    "Functions that might be useful throughout this assignment:\n",
    "\n",
    "- `x.flatten()` (take a N-dimensional numpy array and make it one-dimensional)\n",
    "\n",
    "- `random.sample` -- choose from the list of images\n",
    "\n",
    "- `np.dot()` -- compute the dot product of two vectors: the sum of the product of the coordinates.\n",
    "\n",
    "- `np.reshape()` -- reshapes a vector to a matrix\n",
    "\n",
    "- `x.imshow()` -- visualize a matrix as an image (including heatmaps)"
   ]
  },
  {
   "cell_type": "markdown",
   "metadata": {
    "tags": []
   },
   "source": [
    "## provided by professor"
   ]
  },
  {
   "cell_type": "code",
   "execution_count": 2,
   "metadata": {},
   "outputs": [],
   "source": [
    "# dimension of all images\n",
    "DIM = (28, 28)\n",
    "# flattened imahe\n",
    "N = DIM[0] * DIM[1]"
   ]
  },
  {
   "cell_type": "code",
   "execution_count": 3,
   "metadata": {},
   "outputs": [],
   "source": [
    "def load_image_files(n, path=\"images/\"):\n",
    "    \"\"\"loads images of given digit and returns a list of vectors\"\"\"\n",
    "    # initialize empty list to collect vectors\n",
    "    images = []\n",
    "    # read files in the path\n",
    "    for f in sorted(os.listdir(os.path.join(path, str(n)))):\n",
    "        p = os.path.join(path, str(n), f)\n",
    "        if os.path.isfile(p):\n",
    "            i = np.loadtxt(p)\n",
    "            # check image dimension\n",
    "            assert i.shape == DIM\n",
    "            # flatten i into a single vector\n",
    "            images.append(i.flatten())\n",
    "    return images\n",
    "\n",
    "\n",
    "# load images of '0' and '1'\n",
    "img1 = load_image_files(0)\n",
    "img0 = load_image_files(1)"
   ]
  },
  {
   "cell_type": "markdown",
   "metadata": {
    "tags": []
   },
   "source": [
    "## written by \"student\""
   ]
  },
  {
   "cell_type": "code",
   "execution_count": 4,
   "metadata": {},
   "outputs": [],
   "source": [
    "def classify_image(W, image):\n",
    "    \"\"\"use weight matrix W to determine digit in image\"\"\"\n",
    "    # if dot product > 0, return 1; otherwise 0\n",
    "    y = (np.dot(image, W) > 0).astype(int)\n",
    "    return y"
   ]
  },
  {
   "cell_type": "code",
   "execution_count": 5,
   "metadata": {},
   "outputs": [],
   "source": [
    "def compute_accuracy(W, images, labels):\n",
    "    \"\"\"computes accuracy on a list of images\"\"\"\n",
    "    # initialize count at 0\n",
    "    n_correct = 0\n",
    "    # loop through image list\n",
    "    for i, image in enumerate(images):\n",
    "        # increment count by each time we correctly classify an image\n",
    "        n_correct += (labels[i] == classify_image(W, image)).astype(int)\n",
    "\n",
    "    # accuracy is total correct / total\n",
    "    return n_correct / len(images)"
   ]
  },
  {
   "cell_type": "code",
   "execution_count": 6,
   "metadata": {},
   "outputs": [],
   "source": [
    "def update_weights(W, images, labels):\n",
    "    \"\"\"updates weight matrix W based on training (image,label) pairs\"\"\"\n",
    "\n",
    "    # loop through images and labels\n",
    "    for image, label in zip(images, labels):\n",
    "        # predict image label\n",
    "        pred_label = classify_image(W, image)\n",
    "        # update only if prediction is wrong\n",
    "        if pred_label != label:\n",
    "            # predicted 0 but label is 1\n",
    "            if label == 1:\n",
    "                W += image\n",
    "            # predicted 1 but label is 0\n",
    "            else:\n",
    "                W -= image\n",
    "\n",
    "    # return updated weights\n",
    "    return W"
   ]
  },
  {
   "cell_type": "markdown",
   "metadata": {},
   "source": [
    "# Q1. [20 pts, HELP]\n",
    "Write an implementation of the perceptron learning algorithm that first loads images for the digit \"0\" and then for the digit \"1\". Start with random weights from a normal distribution. Compute the average accuracy on blocks of 25 items and plot this accuracy until you think it won't get better."
   ]
  },
  {
   "cell_type": "code",
   "execution_count": 7,
   "metadata": {},
   "outputs": [],
   "source": [
    "def train_perceptron(digit1, digit2, n_samples=25, epoch=200):\n",
    "    \"\"\"train perceptron on (image, label) pairs for given steps\"\"\"\n",
    "\n",
    "    # load images for two digits to compare\n",
    "    img1 = load_image_files(digit1)\n",
    "    img2 = load_image_files(digit2)\n",
    "\n",
    "    # initialize empty list to collect accuracies\n",
    "    accuracies = []\n",
    "    # initilaize random weights from standard normal\n",
    "    W = np.random.normal(0, 1, size=N)\n",
    "\n",
    "    # iterate through each epoch\n",
    "    for i in tqdm(range(epoch)):\n",
    "\n",
    "        # randomly sample images for '0'\n",
    "        sample1 = random.sample(img1, n_samples)\n",
    "        # randomly sample images for '1'\n",
    "        sample2 = random.sample(img2, n_samples)\n",
    "\n",
    "        # train on chosen samples\n",
    "        W = update_weights(W, sample1 + sample2, [0] * n_samples + [1] * n_samples)\n",
    "        # evaluate performance on all images\n",
    "        accuracy = compute_accuracy(W, img1 + img2, [0] * len(img1) + [1] * len(img2))\n",
    "        accuracies.append(accuracy)\n",
    "\n",
    "    # return accuracies and final weights\n",
    "    return accuracies, W"
   ]
  },
  {
   "cell_type": "code",
   "execution_count": 8,
   "metadata": {},
   "outputs": [
    {
     "data": {
      "application/vnd.jupyter.widget-view+json": {
       "model_id": "0734042212ec45149390fb7fd6ffd8c4",
       "version_major": 2,
       "version_minor": 0
      },
      "text/plain": [
       "  0%|          | 0/500 [00:00<?, ?it/s]"
      ]
     },
     "metadata": {},
     "output_type": "display_data"
    }
   ],
   "source": [
    "# train on 25 examples for given number of epochs\n",
    "n_samples, epochs = 25, 500\n",
    "accuracies, trained_W = train_perceptron(0, 1, n_samples, epochs)"
   ]
  },
  {
   "cell_type": "code",
   "execution_count": 9,
   "metadata": {},
   "outputs": [
    {
     "data": {
      "text/plain": [
       "Text(0.5, 1.0, 'training accuracy')"
      ]
     },
     "execution_count": 9,
     "metadata": {},
     "output_type": "execute_result"
    },
    {
     "data": {
      "image/png": "[encoded data removed]",
      "text/plain": [
       "<Figure size 576x360 with 1 Axes>"
      ]
     },
     "metadata": {
      "needs_background": "light"
     },
     "output_type": "display_data"
    }
   ],
   "source": [
    "# plot accuracy as a function of epoch\n",
    "fig, ax = plt.subplots(figsize=(8, 5))\n",
    "ax.plot(range(epochs), accuracies)\n",
    "ax.set_xlabel(\"epoch\", fontsize=20)\n",
    "ax.set_ylabel(\"mean accuracy\", fontsize=20)\n",
    "ax.set_title(\"training accuracy\", fontsize=25)"
   ]
  },
  {
   "cell_type": "markdown",
   "metadata": {},
   "source": [
    "# Q2. [5pts, SOLO] \n",
    "Does your solution in Q1 converge to 100% accuracy or not? What does this mean in terms of the linear separability of “0” and “1” on this feature space?"
   ]
  },
  {
   "cell_type": "markdown",
   "metadata": {},
   "source": [
    "After 500 epochs, my solution still doesn't converge to 100%, which means the boundary between '0' and '1' may not be fully linearly separable."
   ]
  },
  {
   "cell_type": "markdown",
   "metadata": {},
   "source": [
    "# Q3. [15pts, HELP] \n",
    "\n",
    "Reshape (`numpy.reshape`) your weight vector after training so that it is a 28 $\n",
    "\\times$ 28 matrix. This corresponds to the weight assigned to each pixel in the image. Show a picture of this weight matrix and interpret it in a sentence or two. What do large negative and large positive values mean, intuitively? What do numbers near zero mean? Why does this matrix look the way that it does, in terms of where large positive and negative terms are located?"
   ]
  },
  {
   "cell_type": "code",
   "execution_count": 10,
   "metadata": {},
   "outputs": [],
   "source": [
    "# reshape weights back to 28 * 28\n",
    "trained_W_2d = np.reshape(trained_W, DIM)"
   ]
  },
  {
   "cell_type": "code",
   "execution_count": 11,
   "metadata": {},
   "outputs": [
    {
     "data": {
      "text/plain": [
       "(-0.5, 27.5, 27.5, -0.5)"
      ]
     },
     "execution_count": 11,
     "metadata": {},
     "output_type": "execute_result"
    },
    {
     "data": {
      "image/png": "[encoded data removed]",
      "text/plain": [
       "<Figure size 360x360 with 1 Axes>"
      ]
     },
     "metadata": {
      "needs_background": "light"
     },
     "output_type": "display_data"
    }
   ],
   "source": [
    "# plot weight matrix\n",
    "fig, ax = plt.subplots(figsize=(5, 5))\n",
    "ax.imshow(trained_W_2d)\n",
    "ax.axis(\"off\")"
   ]
  },
  {
   "cell_type": "markdown",
   "metadata": {},
   "source": [
    "# Q4. [10pts, SOLO] \n",
    "What should you expect to happen if you set the elements of the weight vector which are close to zero to be actually zero? Do this for the 10, 20, 30, ... 780 weight values closest to zero in absolute value (use a loop) and plot the resulting accuracies on 1000 random classifications of “0” vs “1”. What does this tell you about the proportion of the image which is diagnostic about “0” vs “1”?"
   ]
  },
  {
   "cell_type": "code",
   "execution_count": 12,
   "metadata": {},
   "outputs": [],
   "source": [
    "def zeroing_weights(W, n_closest):\n",
    "    \"\"\"set n weights closest to 0 to 0\"\"\"\n",
    "    # sort absolute weights\n",
    "    sorted_W = np.sort(np.abs(W))\n",
    "    # find nth closet value to 0\n",
    "    cutoff = sorted_W[n_closest - 1]\n",
    "    # set values closer to 0 with 0\n",
    "    zeroed_W = np.where(np.abs(W) <= cutoff, 0, W)\n",
    "    # return zeroed weights\n",
    "    return zeroed_W"
   ]
  },
  {
   "cell_type": "code",
   "execution_count": 13,
   "metadata": {},
   "outputs": [],
   "source": [
    "# load images for '0' and '1'\n",
    "zeroes = load_image_files(0)\n",
    "ones = load_image_files(1)"
   ]
  },
  {
   "cell_type": "code",
   "execution_count": 14,
   "metadata": {},
   "outputs": [],
   "source": [
    "# randomly choose 1000 examples\n",
    "images = random.sample(zeroes, 1000) + random.sample(ones, 1000)\n",
    "labels = [0] * 1000 + [1] * 1000"
   ]
  },
  {
   "cell_type": "code",
   "execution_count": 15,
   "metadata": {},
   "outputs": [],
   "source": [
    "# initialize empty list to collect accuracies\n",
    "new_accuracies = []\n",
    "# number of weights to set to 0\n",
    "n_closests = [i * 10 for i in range(1, 79)]"
   ]
  },
  {
   "cell_type": "code",
   "execution_count": 16,
   "metadata": {},
   "outputs": [],
   "source": [
    "# loop through zeroed weights to get new accuracies\n",
    "for n in n_closests:\n",
    "    # zero given number of weights\n",
    "    new_W = zeroing_weights(trained_W, n)\n",
    "    # get new accuracy\n",
    "    acc = compute_accuracy(new_W, images, labels)\n",
    "    # append to list\n",
    "    new_accuracies.append(acc)"
   ]
  },
  {
   "cell_type": "code",
   "execution_count": 17,
   "metadata": {},
   "outputs": [
    {
     "data": {
      "text/plain": [
       "Text(0.5, 1.0, 'does zeroing weights hurt accuracy?')"
      ]
     },
     "execution_count": 17,
     "metadata": {},
     "output_type": "execute_result"
    },
    {
     "data": {
      "image/png": "[encoded data removed]",
      "text/plain": [
       "<Figure size 576x360 with 1 Axes>"
      ]
     },
     "metadata": {
      "needs_background": "light"
     },
     "output_type": "display_data"
    }
   ],
   "source": [
    "# plot accuracy as a function of how many weights to zero\n",
    "fig, ax = plt.subplots(figsize=(8, 5))\n",
    "ax.plot(n_closests, new_accuracies)\n",
    "ax.set_xlabel(\"number of weights zeroed\", fontsize=20)\n",
    "ax.set_ylabel(\"mean accuracy\", fontsize=20)\n",
    "ax.set_title(\"does zeroing weights hurt accuracy?\", fontsize=22)"
   ]
  },
  {
   "cell_type": "markdown",
   "metadata": {},
   "source": [
    "# Q5. [20pts, SOLO] \n",
    "Next show a matrix of the classification accuracy of each pair of digits after enough training. Make this a plot (with colors for accuracy rather than numbers). Does it match your intuitions about which pairs should be easy vs. hard? Why or why not?"
   ]
  },
  {
   "cell_type": "code",
   "execution_count": 20,
   "metadata": {},
   "outputs": [],
   "source": [
    "def get_accuracy_matrix(n_num):\n",
    "    \"\"\"get maxtrix with classification accuracy\"\"\"\n",
    "\n",
    "    # initialize matrix with all 1's\n",
    "    acc_matrix = np.ones([n_num, n_num])\n",
    "\n",
    "    # loop through digit pairs\n",
    "    for digit1 in range(n_num - 1):\n",
    "        for digit2 in range(digit1 + 1, n_num):\n",
    "            # get accuracies after 100 epochs\n",
    "            acc, _ = train_perceptron(digit1, digit2, 25, 100)\n",
    "            # replace value in matrix with final accuracy\n",
    "            acc_matrix[digit1, digit2] = acc[-1]\n",
    "            acc_matrix[digit2, digit1] = acc[-1]\n",
    "\n",
    "    # return matrix\n",
    "    return acc_matrix"
   ]
  },
  {
   "cell_type": "code",
   "execution_count": 21,
   "metadata": {},
   "outputs": [],
   "source": [
    "def plot_accuracy_matrix(acc_matrix, n_num):\n",
    "    \"\"\"plot classification accuracy using a heatmap\"\"\"\n",
    "\n",
    "    # generate heatmap\n",
    "    fig, ax = plt.subplots(figsize=(8, 8))\n",
    "    g = ax.imshow(acc_matrix, cmap=\"Blues\")\n",
    "    ax.set_xticks(range(0, n_num))\n",
    "    ax.set_yticks(range(0, n_num))\n",
    "    ax.set_title(\"accuracy matrix\", fontsize=20)\n",
    "\n",
    "    # add color bar\n",
    "    fig.colorbar(g, ax=ax)"
   ]
  },
  {
   "cell_type": "code",
   "execution_count": 22,
   "metadata": {},
   "outputs": [
    {
     "data": {
      "application/vnd.jupyter.widget-view+json": {
       "model_id": "34745d1c843b4aa2ad88c39321313c97",
       "version_major": 2,
       "version_minor": 0
      },
      "text/plain": [
       "  0%|          | 0/100 [00:00<?, ?it/s]"
      ]
     },
     "metadata": {},
     "output_type": "display_data"
    },
    {
     "data": {
      "application/vnd.jupyter.widget-view+json": {
       "model_id": "6ba42b1f6ef84dffa1333a21be9bc32c",
       "version_major": 2,
       "version_minor": 0
      },
      "text/plain": [
       "  0%|          | 0/100 [00:00<?, ?it/s]"
      ]
     },
     "metadata": {},
     "output_type": "display_data"
    },
    {
     "data": {
      "application/vnd.jupyter.widget-view+json": {
       "model_id": "7b3091e929264743a6579b6845c99122",
       "version_major": 2,
       "version_minor": 0
      },
      "text/plain": [
       "  0%|          | 0/100 [00:00<?, ?it/s]"
      ]
     },
     "metadata": {},
     "output_type": "display_data"
    },
    {
     "data": {
      "application/vnd.jupyter.widget-view+json": {
       "model_id": "df2d8f53b61a449ba03c5c6e71cdbc65",
       "version_major": 2,
       "version_minor": 0
      },
      "text/plain": [
       "  0%|          | 0/100 [00:00<?, ?it/s]"
      ]
     },
     "metadata": {},
     "output_type": "display_data"
    },
    {
     "data": {
      "application/vnd.jupyter.widget-view+json": {
       "model_id": "023badbc0201488c8fbd1171f29364fe",
       "version_major": 2,
       "version_minor": 0
      },
      "text/plain": [
       "  0%|          | 0/100 [00:00<?, ?it/s]"
      ]
     },
     "metadata": {},
     "output_type": "display_data"
    },
    {
     "data": {
      "application/vnd.jupyter.widget-view+json": {
       "model_id": "aae419cc92814c23818134e26abdede7",
       "version_major": 2,
       "version_minor": 0
      },
      "text/plain": [
       "  0%|          | 0/100 [00:00<?, ?it/s]"
      ]
     },
     "metadata": {},
     "output_type": "display_data"
    },
    {
     "data": {
      "application/vnd.jupyter.widget-view+json": {
       "model_id": "bdb2d3fc179740ff996d75329465bbbf",
       "version_major": 2,
       "version_minor": 0
      },
      "text/plain": [
       "  0%|          | 0/100 [00:00<?, ?it/s]"
      ]
     },
     "metadata": {},
     "output_type": "display_data"
    },
    {
     "data": {
      "application/vnd.jupyter.widget-view+json": {
       "model_id": "e6874859a022415787d82b238f9ef05d",
       "version_major": 2,
       "version_minor": 0
      },
      "text/plain": [
       "  0%|          | 0/100 [00:00<?, ?it/s]"
      ]
     },
     "metadata": {},
     "output_type": "display_data"
    },
    {
     "data": {
      "application/vnd.jupyter.widget-view+json": {
       "model_id": "78d050620f6d41058a0aebc0045d93de",
       "version_major": 2,
       "version_minor": 0
      },
      "text/plain": [
       "  0%|          | 0/100 [00:00<?, ?it/s]"
      ]
     },
     "metadata": {},
     "output_type": "display_data"
    },
    {
     "data": {
      "application/vnd.jupyter.widget-view+json": {
       "model_id": "78b90bbc2c9642ebb39e1966ddc9b0d3",
       "version_major": 2,
       "version_minor": 0
      },
      "text/plain": [
       "  0%|          | 0/100 [00:00<?, ?it/s]"
      ]
     },
     "metadata": {},
     "output_type": "display_data"
    },
    {
     "data": {
      "application/vnd.jupyter.widget-view+json": {
       "model_id": "de8884b23c8c48ccacae4854b45cd4eb",
       "version_major": 2,
       "version_minor": 0
      },
      "text/plain": [
       "  0%|          | 0/100 [00:00<?, ?it/s]"
      ]
     },
     "metadata": {},
     "output_type": "display_data"
    },
    {
     "data": {
      "application/vnd.jupyter.widget-view+json": {
       "model_id": "5b106896e0434fdc85e0d2e40a82242f",
       "version_major": 2,
       "version_minor": 0
      },
      "text/plain": [
       "  0%|          | 0/100 [00:00<?, ?it/s]"
      ]
     },
     "metadata": {},
     "output_type": "display_data"
    },
    {
     "data": {
      "application/vnd.jupyter.widget-view+json": {
       "model_id": "815a058955ba4f499731b25a35fc58cc",
       "version_major": 2,
       "version_minor": 0
      },
      "text/plain": [
       "  0%|          | 0/100 [00:00<?, ?it/s]"
      ]
     },
     "metadata": {},
     "output_type": "display_data"
    },
    {
     "data": {
      "application/vnd.jupyter.widget-view+json": {
       "model_id": "ecc592d1716a4fb2af6a59a12df8a918",
       "version_major": 2,
       "version_minor": 0
      },
      "text/plain": [
       "  0%|          | 0/100 [00:00<?, ?it/s]"
      ]
     },
     "metadata": {},
     "output_type": "display_data"
    },
    {
     "data": {
      "application/vnd.jupyter.widget-view+json": {
       "model_id": "5661a29c51e442029231f98c50ee1ca0",
       "version_major": 2,
       "version_minor": 0
      },
      "text/plain": [
       "  0%|          | 0/100 [00:00<?, ?it/s]"
      ]
     },
     "metadata": {},
     "output_type": "display_data"
    },
    {
     "data": {
      "application/vnd.jupyter.widget-view+json": {
       "model_id": "1fab0347853b4693a510baec64d8df9b",
       "version_major": 2,
       "version_minor": 0
      },
      "text/plain": [
       "  0%|          | 0/100 [00:00<?, ?it/s]"
      ]
     },
     "metadata": {},
     "output_type": "display_data"
    },
    {
     "data": {
      "application/vnd.jupyter.widget-view+json": {
       "model_id": "4356d2e054cd43fcad27f3e04882b56d",
       "version_major": 2,
       "version_minor": 0
      },
      "text/plain": [
       "  0%|          | 0/100 [00:00<?, ?it/s]"
      ]
     },
     "metadata": {},
     "output_type": "display_data"
    },
    {
     "data": {
      "application/vnd.jupyter.widget-view+json": {
       "model_id": "af86178e5a2c461eb604c69a6c4ac82c",
       "version_major": 2,
       "version_minor": 0
      },
      "text/plain": [
       "  0%|          | 0/100 [00:00<?, ?it/s]"
      ]
     },
     "metadata": {},
     "output_type": "display_data"
    },
    {
     "data": {
      "application/vnd.jupyter.widget-view+json": {
       "model_id": "868a555d2eab4c4f83074bf873e69d05",
       "version_major": 2,
       "version_minor": 0
      },
      "text/plain": [
       "  0%|          | 0/100 [00:00<?, ?it/s]"
      ]
     },
     "metadata": {},
     "output_type": "display_data"
    },
    {
     "data": {
      "application/vnd.jupyter.widget-view+json": {
       "model_id": "d023ee75a0b8469cb1fc2760af518def",
       "version_major": 2,
       "version_minor": 0
      },
      "text/plain": [
       "  0%|          | 0/100 [00:00<?, ?it/s]"
      ]
     },
     "metadata": {},
     "output_type": "display_data"
    },
    {
     "data": {
      "application/vnd.jupyter.widget-view+json": {
       "model_id": "2df4c4ca052e44c495d23a2b51059361",
       "version_major": 2,
       "version_minor": 0
      },
      "text/plain": [
       "  0%|          | 0/100 [00:00<?, ?it/s]"
      ]
     },
     "metadata": {},
     "output_type": "display_data"
    },
    {
     "data": {
      "application/vnd.jupyter.widget-view+json": {
       "model_id": "2f04bb0a3275430d817db84752612890",
       "version_major": 2,
       "version_minor": 0
      },
      "text/plain": [
       "  0%|          | 0/100 [00:00<?, ?it/s]"
      ]
     },
     "metadata": {},
     "output_type": "display_data"
    },
    {
     "data": {
      "application/vnd.jupyter.widget-view+json": {
       "model_id": "cf4c26cf8e754164af78c1dbd1e455a3",
       "version_major": 2,
       "version_minor": 0
      },
      "text/plain": [
       "  0%|          | 0/100 [00:00<?, ?it/s]"
      ]
     },
     "metadata": {},
     "output_type": "display_data"
    },
    {
     "data": {
      "application/vnd.jupyter.widget-view+json": {
       "model_id": "b2c4194c0b57455faee4fc95f66ee5ff",
       "version_major": 2,
       "version_minor": 0
      },
      "text/plain": [
       "  0%|          | 0/100 [00:00<?, ?it/s]"
      ]
     },
     "metadata": {},
     "output_type": "display_data"
    },
    {
     "data": {
      "application/vnd.jupyter.widget-view+json": {
       "model_id": "26b12916aad14e5bb40e156d462d9330",
       "version_major": 2,
       "version_minor": 0
      },
      "text/plain": [
       "  0%|          | 0/100 [00:00<?, ?it/s]"
      ]
     },
     "metadata": {},
     "output_type": "display_data"
    },
    {
     "data": {
      "application/vnd.jupyter.widget-view+json": {
       "model_id": "ef2e9013593544328e7064f6e4097792",
       "version_major": 2,
       "version_minor": 0
      },
      "text/plain": [
       "  0%|          | 0/100 [00:00<?, ?it/s]"
      ]
     },
     "metadata": {},
     "output_type": "display_data"
    },
    {
     "data": {
      "application/vnd.jupyter.widget-view+json": {
       "model_id": "f7ff897692694b2aaae0b8ebcff096ec",
       "version_major": 2,
       "version_minor": 0
      },
      "text/plain": [
       "  0%|          | 0/100 [00:00<?, ?it/s]"
      ]
     },
     "metadata": {},
     "output_type": "display_data"
    },
    {
     "data": {
      "application/vnd.jupyter.widget-view+json": {
       "model_id": "fc0d3e1c1991436083bf848ed7f5305c",
       "version_major": 2,
       "version_minor": 0
      },
      "text/plain": [
       "  0%|          | 0/100 [00:00<?, ?it/s]"
      ]
     },
     "metadata": {},
     "output_type": "display_data"
    },
    {
     "data": {
      "application/vnd.jupyter.widget-view+json": {
       "model_id": "d0f98ac9fbd544bea6bea17596ff8c31",
       "version_major": 2,
       "version_minor": 0
      },
      "text/plain": [
       "  0%|          | 0/100 [00:00<?, ?it/s]"
      ]
     },
     "metadata": {},
     "output_type": "display_data"
    },
    {
     "data": {
      "application/vnd.jupyter.widget-view+json": {
       "model_id": "26131abd00424d60a97115519bf918b1",
       "version_major": 2,
       "version_minor": 0
      },
      "text/plain": [
       "  0%|          | 0/100 [00:00<?, ?it/s]"
      ]
     },
     "metadata": {},
     "output_type": "display_data"
    },
    {
     "data": {
      "application/vnd.jupyter.widget-view+json": {
       "model_id": "cb17f7802be74baa9ab40754a266c24a",
       "version_major": 2,
       "version_minor": 0
      },
      "text/plain": [
       "  0%|          | 0/100 [00:00<?, ?it/s]"
      ]
     },
     "metadata": {},
     "output_type": "display_data"
    },
    {
     "data": {
      "application/vnd.jupyter.widget-view+json": {
       "model_id": "32115a49f7084d9a9ec14d96b022f868",
       "version_major": 2,
       "version_minor": 0
      },
      "text/plain": [
       "  0%|          | 0/100 [00:00<?, ?it/s]"
      ]
     },
     "metadata": {},
     "output_type": "display_data"
    },
    {
     "data": {
      "application/vnd.jupyter.widget-view+json": {
       "model_id": "95bd152bb88c4f62917d9ecc0d58be9c",
       "version_major": 2,
       "version_minor": 0
      },
      "text/plain": [
       "  0%|          | 0/100 [00:00<?, ?it/s]"
      ]
     },
     "metadata": {},
     "output_type": "display_data"
    },
    {
     "data": {
      "application/vnd.jupyter.widget-view+json": {
       "model_id": "856aa474ffe74cfca8f5c49ce4d1ab2e",
       "version_major": 2,
       "version_minor": 0
      },
      "text/plain": [
       "  0%|          | 0/100 [00:00<?, ?it/s]"
      ]
     },
     "metadata": {},
     "output_type": "display_data"
    },
    {
     "data": {
      "application/vnd.jupyter.widget-view+json": {
       "model_id": "9fbb09b8eeb9492c962a11ff526323ba",
       "version_major": 2,
       "version_minor": 0
      },
      "text/plain": [
       "  0%|          | 0/100 [00:00<?, ?it/s]"
      ]
     },
     "metadata": {},
     "output_type": "display_data"
    },
    {
     "data": {
      "application/vnd.jupyter.widget-view+json": {
       "model_id": "679bfe8437e3412191524008aa2f43de",
       "version_major": 2,
       "version_minor": 0
      },
      "text/plain": [
       "  0%|          | 0/100 [00:00<?, ?it/s]"
      ]
     },
     "metadata": {},
     "output_type": "display_data"
    },
    {
     "data": {
      "application/vnd.jupyter.widget-view+json": {
       "model_id": "27984af74ca74f229699ff10dcccdbd4",
       "version_major": 2,
       "version_minor": 0
      },
      "text/plain": [
       "  0%|          | 0/100 [00:00<?, ?it/s]"
      ]
     },
     "metadata": {},
     "output_type": "display_data"
    },
    {
     "data": {
      "application/vnd.jupyter.widget-view+json": {
       "model_id": "ceba3a5d47474c8d8e8db02c652c1c93",
       "version_major": 2,
       "version_minor": 0
      },
      "text/plain": [
       "  0%|          | 0/100 [00:00<?, ?it/s]"
      ]
     },
     "metadata": {},
     "output_type": "display_data"
    },
    {
     "data": {
      "application/vnd.jupyter.widget-view+json": {
       "model_id": "ee680bfbaa784a1f906d623f870754d1",
       "version_major": 2,
       "version_minor": 0
      },
      "text/plain": [
       "  0%|          | 0/100 [00:00<?, ?it/s]"
      ]
     },
     "metadata": {},
     "output_type": "display_data"
    },
    {
     "data": {
      "application/vnd.jupyter.widget-view+json": {
       "model_id": "e326d5a063774c20a180b2911165eb9f",
       "version_major": 2,
       "version_minor": 0
      },
      "text/plain": [
       "  0%|          | 0/100 [00:00<?, ?it/s]"
      ]
     },
     "metadata": {},
     "output_type": "display_data"
    },
    {
     "data": {
      "application/vnd.jupyter.widget-view+json": {
       "model_id": "e1fd0526325d414b9b7859a69d462cf9",
       "version_major": 2,
       "version_minor": 0
      },
      "text/plain": [
       "  0%|          | 0/100 [00:00<?, ?it/s]"
      ]
     },
     "metadata": {},
     "output_type": "display_data"
    },
    {
     "data": {
      "application/vnd.jupyter.widget-view+json": {
       "model_id": "e762ade0aa874eebabd0e80bee496bc9",
       "version_major": 2,
       "version_minor": 0
      },
      "text/plain": [
       "  0%|          | 0/100 [00:00<?, ?it/s]"
      ]
     },
     "metadata": {},
     "output_type": "display_data"
    },
    {
     "data": {
      "application/vnd.jupyter.widget-view+json": {
       "model_id": "35d0d63d6b864155990e1e5cf7ad9f55",
       "version_major": 2,
       "version_minor": 0
      },
      "text/plain": [
       "  0%|          | 0/100 [00:00<?, ?it/s]"
      ]
     },
     "metadata": {},
     "output_type": "display_data"
    },
    {
     "data": {
      "application/vnd.jupyter.widget-view+json": {
       "model_id": "2375b5a8b2f047109baf8c8d96ff7a75",
       "version_major": 2,
       "version_minor": 0
      },
      "text/plain": [
       "  0%|          | 0/100 [00:00<?, ?it/s]"
      ]
     },
     "metadata": {},
     "output_type": "display_data"
    },
    {
     "data": {
      "application/vnd.jupyter.widget-view+json": {
       "model_id": "5624fa7d4bda403a8dcd695c39e9ee5a",
       "version_major": 2,
       "version_minor": 0
      },
      "text/plain": [
       "  0%|          | 0/100 [00:00<?, ?it/s]"
      ]
     },
     "metadata": {},
     "output_type": "display_data"
    },
    {
     "data": {
      "image/png": "[encoded data removed]",
      "text/plain": [
       "<Figure size 576x576 with 2 Axes>"
      ]
     },
     "metadata": {
      "needs_background": "light"
     },
     "output_type": "display_data"
    }
   ],
   "source": [
    "# do it for 0 to 9\n",
    "acc_matrix = get_accuracy_matrix(10)\n",
    "plot_accuracy_matrix(acc_matrix, 10)"
   ]
  },
  {
   "cell_type": "code",
   "execution_count": null,
   "metadata": {},
   "outputs": [],
   "source": []
  }
 ],
 "metadata": {
  "kernelspec": {
   "display_name": "Python 3 (ipykernel)",
   "language": "python",
   "name": "python3"
  },
  "language_info": {
   "codemirror_mode": {
    "name": "ipython",
    "version": 3
   },
   "file_extension": ".py",
   "mimetype": "text/x-python",
   "name": "python",
   "nbconvert_exporter": "python",
   "pygments_lexer": "ipython3",
   "version": "3.9.9"
  },
  "toc": {
   "base_numbering": 1,
   "nav_menu": {},
   "number_sections": false,
   "sideBar": true,
   "skip_h1_title": false,
   "title_cell": "Table of Contents",
   "title_sidebar": "Contents",
   "toc_cell": false,
   "toc_position": {},
   "toc_section_display": true,
   "toc_window_display": false
  },
  "toc-autonumbering": false,
  "varInspector": {
   "cols": {
    "lenName": 16,
    "lenType": 16,
    "lenVar": 40
   },
   "kernels_config": {
    "python": {
     "delete_cmd_postfix": "",
     "delete_cmd_prefix": "del ",
     "library": "var_list.py",
     "varRefreshCmd": "print(var_dic_list())"
    },
    "r": {
     "delete_cmd_postfix": ") ",
     "delete_cmd_prefix": "rm(",
     "library": "var_list.r",
     "varRefreshCmd": "cat(var_dic_list()) "
    }
   },
   "types_to_exclude": [
    "module",
    "function",
    "builtin_function_or_method",
    "instance",
    "_Feature"
   ],
   "window_display": false
  }
 },
 "nbformat": 4,
 "nbformat_minor": 4
}
